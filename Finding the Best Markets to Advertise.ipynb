{
 "cells": [
  {
   "cell_type": "markdown",
   "metadata": {
    "collapsed": true
   },
   "source": [
    "# Finding the Best Markets to Advertise"
   ]
  },
  {
   "cell_type": "markdown",
   "metadata": {},
   "source": [
    "I will try to find proper field to create an E-learning Bootcamp. I will use [freeCodeCamp's 2017 New Coder Survey](https://github.com/freeCodeCamp/2017-new-coder-survey) to see the new coders' interest. "
   ]
  },
  {
   "cell_type": "markdown",
   "metadata": {},
   "source": [
    "## Opening Data"
   ]
  },
  {
   "cell_type": "code",
   "execution_count": 1,
   "metadata": {},
   "outputs": [],
   "source": [
    "import pandas as pd"
   ]
  },
  {
   "cell_type": "code",
   "execution_count": 2,
   "metadata": {},
   "outputs": [],
   "source": [
    "fcc = pd.read_csv('2017-fCC-New-Coders-Survey-Data.csv', low_memory = 0)"
   ]
  },
  {
   "cell_type": "code",
   "execution_count": 3,
   "metadata": {},
   "outputs": [
    {
     "data": {
      "text/html": [
       "<div>\n",
       "<style scoped>\n",
       "    .dataframe tbody tr th:only-of-type {\n",
       "        vertical-align: middle;\n",
       "    }\n",
       "\n",
       "    .dataframe tbody tr th {\n",
       "        vertical-align: top;\n",
       "    }\n",
       "\n",
       "    .dataframe thead th {\n",
       "        text-align: right;\n",
       "    }\n",
       "</style>\n",
       "<table border=\"1\" class=\"dataframe\">\n",
       "  <thead>\n",
       "    <tr style=\"text-align: right;\">\n",
       "      <th></th>\n",
       "      <th>Age</th>\n",
       "      <th>AttendedBootcamp</th>\n",
       "      <th>BootcampFinish</th>\n",
       "      <th>BootcampLoanYesNo</th>\n",
       "      <th>BootcampName</th>\n",
       "      <th>BootcampRecommend</th>\n",
       "      <th>ChildrenNumber</th>\n",
       "      <th>CityPopulation</th>\n",
       "      <th>CodeEventConferences</th>\n",
       "      <th>CodeEventDjangoGirls</th>\n",
       "      <th>...</th>\n",
       "      <th>YouTubeFCC</th>\n",
       "      <th>YouTubeFunFunFunction</th>\n",
       "      <th>YouTubeGoogleDev</th>\n",
       "      <th>YouTubeLearnCode</th>\n",
       "      <th>YouTubeLevelUpTuts</th>\n",
       "      <th>YouTubeMIT</th>\n",
       "      <th>YouTubeMozillaHacks</th>\n",
       "      <th>YouTubeOther</th>\n",
       "      <th>YouTubeSimplilearn</th>\n",
       "      <th>YouTubeTheNewBoston</th>\n",
       "    </tr>\n",
       "  </thead>\n",
       "  <tbody>\n",
       "    <tr>\n",
       "      <th>0</th>\n",
       "      <td>27.0</td>\n",
       "      <td>0.0</td>\n",
       "      <td>NaN</td>\n",
       "      <td>NaN</td>\n",
       "      <td>NaN</td>\n",
       "      <td>NaN</td>\n",
       "      <td>NaN</td>\n",
       "      <td>more than 1 million</td>\n",
       "      <td>NaN</td>\n",
       "      <td>NaN</td>\n",
       "      <td>...</td>\n",
       "      <td>NaN</td>\n",
       "      <td>NaN</td>\n",
       "      <td>NaN</td>\n",
       "      <td>NaN</td>\n",
       "      <td>NaN</td>\n",
       "      <td>NaN</td>\n",
       "      <td>NaN</td>\n",
       "      <td>NaN</td>\n",
       "      <td>NaN</td>\n",
       "      <td>NaN</td>\n",
       "    </tr>\n",
       "    <tr>\n",
       "      <th>1</th>\n",
       "      <td>34.0</td>\n",
       "      <td>0.0</td>\n",
       "      <td>NaN</td>\n",
       "      <td>NaN</td>\n",
       "      <td>NaN</td>\n",
       "      <td>NaN</td>\n",
       "      <td>NaN</td>\n",
       "      <td>less than 100,000</td>\n",
       "      <td>NaN</td>\n",
       "      <td>NaN</td>\n",
       "      <td>...</td>\n",
       "      <td>1.0</td>\n",
       "      <td>NaN</td>\n",
       "      <td>NaN</td>\n",
       "      <td>NaN</td>\n",
       "      <td>NaN</td>\n",
       "      <td>NaN</td>\n",
       "      <td>NaN</td>\n",
       "      <td>NaN</td>\n",
       "      <td>NaN</td>\n",
       "      <td>NaN</td>\n",
       "    </tr>\n",
       "    <tr>\n",
       "      <th>2</th>\n",
       "      <td>21.0</td>\n",
       "      <td>0.0</td>\n",
       "      <td>NaN</td>\n",
       "      <td>NaN</td>\n",
       "      <td>NaN</td>\n",
       "      <td>NaN</td>\n",
       "      <td>NaN</td>\n",
       "      <td>more than 1 million</td>\n",
       "      <td>NaN</td>\n",
       "      <td>NaN</td>\n",
       "      <td>...</td>\n",
       "      <td>NaN</td>\n",
       "      <td>NaN</td>\n",
       "      <td>NaN</td>\n",
       "      <td>1.0</td>\n",
       "      <td>1.0</td>\n",
       "      <td>NaN</td>\n",
       "      <td>NaN</td>\n",
       "      <td>NaN</td>\n",
       "      <td>NaN</td>\n",
       "      <td>NaN</td>\n",
       "    </tr>\n",
       "    <tr>\n",
       "      <th>3</th>\n",
       "      <td>26.0</td>\n",
       "      <td>0.0</td>\n",
       "      <td>NaN</td>\n",
       "      <td>NaN</td>\n",
       "      <td>NaN</td>\n",
       "      <td>NaN</td>\n",
       "      <td>NaN</td>\n",
       "      <td>between 100,000 and 1 million</td>\n",
       "      <td>NaN</td>\n",
       "      <td>NaN</td>\n",
       "      <td>...</td>\n",
       "      <td>1.0</td>\n",
       "      <td>1.0</td>\n",
       "      <td>NaN</td>\n",
       "      <td>NaN</td>\n",
       "      <td>1.0</td>\n",
       "      <td>NaN</td>\n",
       "      <td>NaN</td>\n",
       "      <td>NaN</td>\n",
       "      <td>NaN</td>\n",
       "      <td>NaN</td>\n",
       "    </tr>\n",
       "    <tr>\n",
       "      <th>4</th>\n",
       "      <td>20.0</td>\n",
       "      <td>0.0</td>\n",
       "      <td>NaN</td>\n",
       "      <td>NaN</td>\n",
       "      <td>NaN</td>\n",
       "      <td>NaN</td>\n",
       "      <td>NaN</td>\n",
       "      <td>between 100,000 and 1 million</td>\n",
       "      <td>NaN</td>\n",
       "      <td>NaN</td>\n",
       "      <td>...</td>\n",
       "      <td>NaN</td>\n",
       "      <td>NaN</td>\n",
       "      <td>NaN</td>\n",
       "      <td>NaN</td>\n",
       "      <td>NaN</td>\n",
       "      <td>NaN</td>\n",
       "      <td>NaN</td>\n",
       "      <td>NaN</td>\n",
       "      <td>NaN</td>\n",
       "      <td>NaN</td>\n",
       "    </tr>\n",
       "  </tbody>\n",
       "</table>\n",
       "<p>5 rows × 136 columns</p>\n",
       "</div>"
      ],
      "text/plain": [
       "    Age  AttendedBootcamp  BootcampFinish  BootcampLoanYesNo BootcampName  \\\n",
       "0  27.0               0.0             NaN                NaN          NaN   \n",
       "1  34.0               0.0             NaN                NaN          NaN   \n",
       "2  21.0               0.0             NaN                NaN          NaN   \n",
       "3  26.0               0.0             NaN                NaN          NaN   \n",
       "4  20.0               0.0             NaN                NaN          NaN   \n",
       "\n",
       "   BootcampRecommend  ChildrenNumber                 CityPopulation  \\\n",
       "0                NaN             NaN            more than 1 million   \n",
       "1                NaN             NaN              less than 100,000   \n",
       "2                NaN             NaN            more than 1 million   \n",
       "3                NaN             NaN  between 100,000 and 1 million   \n",
       "4                NaN             NaN  between 100,000 and 1 million   \n",
       "\n",
       "   CodeEventConferences  CodeEventDjangoGirls  ...  YouTubeFCC  \\\n",
       "0                   NaN                   NaN  ...         NaN   \n",
       "1                   NaN                   NaN  ...         1.0   \n",
       "2                   NaN                   NaN  ...         NaN   \n",
       "3                   NaN                   NaN  ...         1.0   \n",
       "4                   NaN                   NaN  ...         NaN   \n",
       "\n",
       "   YouTubeFunFunFunction  YouTubeGoogleDev  YouTubeLearnCode  \\\n",
       "0                    NaN               NaN               NaN   \n",
       "1                    NaN               NaN               NaN   \n",
       "2                    NaN               NaN               1.0   \n",
       "3                    1.0               NaN               NaN   \n",
       "4                    NaN               NaN               NaN   \n",
       "\n",
       "   YouTubeLevelUpTuts  YouTubeMIT  YouTubeMozillaHacks YouTubeOther  \\\n",
       "0                 NaN         NaN                  NaN          NaN   \n",
       "1                 NaN         NaN                  NaN          NaN   \n",
       "2                 1.0         NaN                  NaN          NaN   \n",
       "3                 1.0         NaN                  NaN          NaN   \n",
       "4                 NaN         NaN                  NaN          NaN   \n",
       "\n",
       "   YouTubeSimplilearn  YouTubeTheNewBoston  \n",
       "0                 NaN                  NaN  \n",
       "1                 NaN                  NaN  \n",
       "2                 NaN                  NaN  \n",
       "3                 NaN                  NaN  \n",
       "4                 NaN                  NaN  \n",
       "\n",
       "[5 rows x 136 columns]"
      ]
     },
     "execution_count": 3,
     "metadata": {},
     "output_type": "execute_result"
    }
   ],
   "source": [
    "fcc.head()"
   ]
  },
  {
   "cell_type": "code",
   "execution_count": 4,
   "metadata": {},
   "outputs": [
    {
     "name": "stdout",
     "output_type": "stream",
     "text": [
      "<class 'pandas.core.frame.DataFrame'>\n",
      "RangeIndex: 18175 entries, 0 to 18174\n",
      "Columns: 136 entries, Age to YouTubeTheNewBoston\n",
      "dtypes: float64(105), object(31)\n",
      "memory usage: 18.9+ MB\n"
     ]
    }
   ],
   "source": [
    "fcc.info()"
   ]
  },
  {
   "cell_type": "markdown",
   "metadata": {},
   "source": [
    "The \"JobRoleInterest\" column indicate the roles. I will explore this column."
   ]
  },
  {
   "cell_type": "code",
   "execution_count": 5,
   "metadata": {},
   "outputs": [
    {
     "data": {
      "text/plain": [
       "array([nan, 'Full-Stack Web Developer',\n",
       "       '  Front-End Web Developer, Back-End Web Developer,   DevOps / SysAdmin,   Mobile Developer, Full-Stack Web Developer',\n",
       "       ...,\n",
       "       '  Data Scientist, Game Developer,   Quality Assurance Engineer',\n",
       "       'Back-End Web Developer, Data Engineer,   Data Scientist,   DevOps / SysAdmin',\n",
       "       '  DevOps / SysAdmin,   Mobile Developer,   Product Manager, Game Developer,   Front-End Web Developer, Data Engineer,   Quality Assurance Engineer,   User Experience Designer, Back-End Web Developer,   Data Scientist, Full-Stack Web Developer, Information Security, IT specialist '],\n",
       "      dtype=object)"
      ]
     },
     "execution_count": 5,
     "metadata": {},
     "output_type": "execute_result"
    }
   ],
   "source": [
    "fcc[\"JobRoleInterest\"].unique()"
   ]
  },
  {
   "cell_type": "code",
   "execution_count": 6,
   "metadata": {},
   "outputs": [
    {
     "data": {
      "text/plain": [
       "Full-Stack Web Developer                                                                                                                                                        82300\n",
       "  Front-End Web Developer                                                                                                                                                       45000\n",
       "  Data Scientist                                                                                                                                                                15200\n",
       "Back-End Web Developer                                                                                                                                                          14200\n",
       "  Mobile Developer                                                                                                                                                              11700\n",
       "Game Developer                                                                                                                                                                  11400\n",
       "Information Security                                                                                                                                                             9200\n",
       "Full-Stack Web Developer,   Front-End Web Developer                                                                                                                              6400\n",
       "  Front-End Web Developer, Full-Stack Web Developer                                                                                                                              5600\n",
       "  Product Manager                                                                                                                                                                5500\n",
       "Data Engineer                                                                                                                                                                    5300\n",
       "  User Experience Designer                                                                                                                                                       5200\n",
       "  User Experience Designer,   Front-End Web Developer                                                                                                                            4300\n",
       "  Front-End Web Developer, Back-End Web Developer, Full-Stack Web Developer                                                                                                      3900\n",
       "Back-End Web Developer,   Front-End Web Developer, Full-Stack Web Developer                                                                                                      3600\n",
       "Back-End Web Developer, Full-Stack Web Developer,   Front-End Web Developer                                                                                                      3600\n",
       "  DevOps / SysAdmin                                                                                                                                                              3600\n",
       "Full-Stack Web Developer,   Front-End Web Developer, Back-End Web Developer                                                                                                      3100\n",
       "  Front-End Web Developer, Full-Stack Web Developer, Back-End Web Developer                                                                                                      3000\n",
       "Full-Stack Web Developer,   Mobile Developer                                                                                                                                     2900\n",
       "  Front-End Web Developer,   User Experience Designer                                                                                                                            2900\n",
       "Back-End Web Developer, Full-Stack Web Developer                                                                                                                                 2700\n",
       "Full-Stack Web Developer, Back-End Web Developer                                                                                                                                 2600\n",
       "Back-End Web Developer,   Front-End Web Developer                                                                                                                                2000\n",
       "Full-Stack Web Developer, Back-End Web Developer,   Front-End Web Developer                                                                                                      1900\n",
       "Data Engineer,   Data Scientist                                                                                                                                                  1900\n",
       "  Front-End Web Developer,   Mobile Developer                                                                                                                                    1800\n",
       "Full-Stack Web Developer,   Data Scientist                                                                                                                                       1700\n",
       "  Mobile Developer, Game Developer                                                                                                                                               1600\n",
       "  Data Scientist, Data Engineer                                                                                                                                                  1600\n",
       "                                                                                                                                                                                ...  \n",
       "Back-End Web Developer, Data Engineer,   Front-End Web Developer                                                                                                                  100\n",
       "Full-Stack Web Developer, Data Engineer, Information Security,   Data Scientist, Game Developer,   DevOps / SysAdmin                                                              100\n",
       "Information Security,   Mobile Developer,   Front-End Web Developer,   User Experience Designer, Full-Stack Web Developer                                                         100\n",
       "Data Engineer,   Data Scientist,   Front-End Web Developer,   DevOps / SysAdmin                                                                                                   100\n",
       "Game Developer, Back-End Web Developer, Information Security,   DevOps / SysAdmin,   Front-End Web Developer, Full-Stack Web Developer                                            100\n",
       "Game Developer,   Front-End Web Developer, Data Engineer, Information Security,   Mobile Developer, Back-End Web Developer                                                        100\n",
       "  Quality Assurance Engineer,   Front-End Web Developer,   User Experience Designer, Full-Stack Web Developer, Back-End Web Developer                                             100\n",
       "  Mobile Developer, Full-Stack Web Developer,   User Experience Designer, Back-End Web Developer, Game Developer,   Front-End Web Developer                                       100\n",
       "Data Engineer,   Front-End Web Developer, Game Developer                                                                                                                          100\n",
       "  DevOps / SysAdmin,   Mobile Developer, Information Security, Data Engineer,   Data Scientist, Back-End Web Developer                                                            100\n",
       "Back-End Web Developer, Game Developer, Information Security, Full-Stack Web Developer                                                                                            100\n",
       "Full-Stack Web Developer,   Quality Assurance Engineer,   Product Manager,   Front-End Web Developer                                                                              100\n",
       "  Front-End Web Developer, Information Security,   User Experience Designer,   Mobile Developer, Data Engineer                                                                    100\n",
       "  Front-End Web Developer,   Quality Assurance Engineer,   User Experience Designer, Full-Stack Web Developer, Game Developer                                                     100\n",
       "  User Experience Designer,   Front-End Web Developer,   Data Scientist, Information Security,   Mobile Developer,   DevOps / SysAdmin,   Product Manager                         100\n",
       "Full-Stack Web Developer,   Mobile Developer,   Front-End Web Developer, Game Developer                                                                                           100\n",
       "Information Security, Full-Stack Web Developer, Back-End Web Developer,   Mobile Developer,   Front-End Web Developer,   Data Scientist,   DevOps / SysAdmin                      100\n",
       "Game Developer, Full-Stack Web Developer, Information Security,   Data Scientist,   Mobile Developer,   Front-End Web Developer                                                   100\n",
       "  User Experience Designer, Back-End Web Developer,   Mobile Developer, Full-Stack Web Developer,   Front-End Web Developer                                                       100\n",
       "  Data Scientist,   Front-End Web Developer, Back-End Web Developer,   Mobile Developer, Full-Stack Web Developer                                                                 100\n",
       "  User Experience Designer, Full-Stack Web Developer,   Mobile Developer, Data Engineer, Back-End Web Developer                                                                   100\n",
       "  Mobile Developer,   User Experience Designer, Data Engineer,   Front-End Web Developer, Back-End Web Developer, Full-Stack Web Developer, Game Developer,   Data Scientist      100\n",
       "Full-Stack Web Developer, Back-End Web Developer,   Mobile Developer, Game Developer, Data Engineer                                                                               100\n",
       "  Front-End Web Developer,   Quality Assurance Engineer, Back-End Web Developer,   Mobile Developer,   DevOps / SysAdmin, Game Developer, Full-Stack Web Developer                100\n",
       "  Data Scientist,   Front-End Web Developer, Full-Stack Web Developer, Back-End Web Developer,   Mobile Developer                                                                 100\n",
       "Data/Interactive Journalist                                                                                                                                                       100\n",
       "  Mobile Developer, Back-End Web Developer,   Front-End Web Developer, Game Developer, Information Security                                                                       100\n",
       "  Data Scientist, Machine Learning Engineer                                                                                                                                       100\n",
       "  DevOps / SysAdmin, Data Engineer                                                                                                                                                100\n",
       "  Front-End Web Developer, Full-Stack Web Developer, Information Security,   Data Scientist, Back-End Web Developer, Game Developer                                               100\n",
       "Name: JobRoleInterest, Length: 3213, dtype: int64"
      ]
     },
     "execution_count": 6,
     "metadata": {},
     "output_type": "execute_result"
    }
   ],
   "source": [
    "fcc['JobRoleInterest'].value_counts() * 100"
   ]
  },
  {
   "cell_type": "code",
   "execution_count": 7,
   "metadata": {},
   "outputs": [
    {
     "data": {
      "text/plain": [
       "Full-Stack Web Developer                                                                                                                                                        11.770595\n",
       "  Front-End Web Developer                                                                                                                                                        6.435927\n",
       "  Data Scientist                                                                                                                                                                 2.173913\n",
       "Back-End Web Developer                                                                                                                                                           2.030892\n",
       "  Mobile Developer                                                                                                                                                               1.673341\n",
       "Game Developer                                                                                                                                                                   1.630435\n",
       "Information Security                                                                                                                                                             1.315789\n",
       "Full-Stack Web Developer,   Front-End Web Developer                                                                                                                              0.915332\n",
       "  Front-End Web Developer, Full-Stack Web Developer                                                                                                                              0.800915\n",
       "  Product Manager                                                                                                                                                                0.786613\n",
       "Data Engineer                                                                                                                                                                    0.758009\n",
       "  User Experience Designer                                                                                                                                                       0.743707\n",
       "  User Experience Designer,   Front-End Web Developer                                                                                                                            0.614989\n",
       "  Front-End Web Developer, Back-End Web Developer, Full-Stack Web Developer                                                                                                      0.557780\n",
       "Back-End Web Developer,   Front-End Web Developer, Full-Stack Web Developer                                                                                                      0.514874\n",
       "Back-End Web Developer, Full-Stack Web Developer,   Front-End Web Developer                                                                                                      0.514874\n",
       "  DevOps / SysAdmin                                                                                                                                                              0.514874\n",
       "Full-Stack Web Developer,   Front-End Web Developer, Back-End Web Developer                                                                                                      0.443364\n",
       "  Front-End Web Developer, Full-Stack Web Developer, Back-End Web Developer                                                                                                      0.429062\n",
       "Full-Stack Web Developer,   Mobile Developer                                                                                                                                     0.414760\n",
       "  Front-End Web Developer,   User Experience Designer                                                                                                                            0.414760\n",
       "Back-End Web Developer, Full-Stack Web Developer                                                                                                                                 0.386156\n",
       "Full-Stack Web Developer, Back-End Web Developer                                                                                                                                 0.371854\n",
       "Back-End Web Developer,   Front-End Web Developer                                                                                                                                0.286041\n",
       "Full-Stack Web Developer, Back-End Web Developer,   Front-End Web Developer                                                                                                      0.271739\n",
       "Data Engineer,   Data Scientist                                                                                                                                                  0.271739\n",
       "  Front-End Web Developer,   Mobile Developer                                                                                                                                    0.257437\n",
       "Full-Stack Web Developer,   Data Scientist                                                                                                                                       0.243135\n",
       "  Mobile Developer, Game Developer                                                                                                                                               0.228833\n",
       "  Data Scientist, Data Engineer                                                                                                                                                  0.228833\n",
       "                                                                                                                                                                                  ...    \n",
       "Back-End Web Developer, Data Engineer,   Front-End Web Developer                                                                                                                 0.014302\n",
       "Full-Stack Web Developer, Data Engineer, Information Security,   Data Scientist, Game Developer,   DevOps / SysAdmin                                                             0.014302\n",
       "Information Security,   Mobile Developer,   Front-End Web Developer,   User Experience Designer, Full-Stack Web Developer                                                        0.014302\n",
       "Data Engineer,   Data Scientist,   Front-End Web Developer,   DevOps / SysAdmin                                                                                                  0.014302\n",
       "Game Developer, Back-End Web Developer, Information Security,   DevOps / SysAdmin,   Front-End Web Developer, Full-Stack Web Developer                                           0.014302\n",
       "Game Developer,   Front-End Web Developer, Data Engineer, Information Security,   Mobile Developer, Back-End Web Developer                                                       0.014302\n",
       "  Quality Assurance Engineer,   Front-End Web Developer,   User Experience Designer, Full-Stack Web Developer, Back-End Web Developer                                            0.014302\n",
       "  Mobile Developer, Full-Stack Web Developer,   User Experience Designer, Back-End Web Developer, Game Developer,   Front-End Web Developer                                      0.014302\n",
       "Data Engineer,   Front-End Web Developer, Game Developer                                                                                                                         0.014302\n",
       "  DevOps / SysAdmin,   Mobile Developer, Information Security, Data Engineer,   Data Scientist, Back-End Web Developer                                                           0.014302\n",
       "Back-End Web Developer, Game Developer, Information Security, Full-Stack Web Developer                                                                                           0.014302\n",
       "Full-Stack Web Developer,   Quality Assurance Engineer,   Product Manager,   Front-End Web Developer                                                                             0.014302\n",
       "  Front-End Web Developer, Information Security,   User Experience Designer,   Mobile Developer, Data Engineer                                                                   0.014302\n",
       "  Front-End Web Developer,   Quality Assurance Engineer,   User Experience Designer, Full-Stack Web Developer, Game Developer                                                    0.014302\n",
       "  User Experience Designer,   Front-End Web Developer,   Data Scientist, Information Security,   Mobile Developer,   DevOps / SysAdmin,   Product Manager                        0.014302\n",
       "Full-Stack Web Developer,   Mobile Developer,   Front-End Web Developer, Game Developer                                                                                          0.014302\n",
       "Information Security, Full-Stack Web Developer, Back-End Web Developer,   Mobile Developer,   Front-End Web Developer,   Data Scientist,   DevOps / SysAdmin                     0.014302\n",
       "Game Developer, Full-Stack Web Developer, Information Security,   Data Scientist,   Mobile Developer,   Front-End Web Developer                                                  0.014302\n",
       "  User Experience Designer, Back-End Web Developer,   Mobile Developer, Full-Stack Web Developer,   Front-End Web Developer                                                      0.014302\n",
       "  Data Scientist,   Front-End Web Developer, Back-End Web Developer,   Mobile Developer, Full-Stack Web Developer                                                                0.014302\n",
       "  User Experience Designer, Full-Stack Web Developer,   Mobile Developer, Data Engineer, Back-End Web Developer                                                                  0.014302\n",
       "  Mobile Developer,   User Experience Designer, Data Engineer,   Front-End Web Developer, Back-End Web Developer, Full-Stack Web Developer, Game Developer,   Data Scientist     0.014302\n",
       "Full-Stack Web Developer, Back-End Web Developer,   Mobile Developer, Game Developer, Data Engineer                                                                              0.014302\n",
       "  Front-End Web Developer,   Quality Assurance Engineer, Back-End Web Developer,   Mobile Developer,   DevOps / SysAdmin, Game Developer, Full-Stack Web Developer               0.014302\n",
       "  Data Scientist,   Front-End Web Developer, Full-Stack Web Developer, Back-End Web Developer,   Mobile Developer                                                                0.014302\n",
       "Data/Interactive Journalist                                                                                                                                                      0.014302\n",
       "  Mobile Developer, Back-End Web Developer,   Front-End Web Developer, Game Developer, Information Security                                                                      0.014302\n",
       "  Data Scientist, Machine Learning Engineer                                                                                                                                      0.014302\n",
       "  DevOps / SysAdmin, Data Engineer                                                                                                                                               0.014302\n",
       "  Front-End Web Developer, Full-Stack Web Developer, Information Security,   Data Scientist, Back-End Web Developer, Game Developer                                              0.014302\n",
       "Name: JobRoleInterest, Length: 3213, dtype: float64"
      ]
     },
     "execution_count": 7,
     "metadata": {},
     "output_type": "execute_result"
    }
   ],
   "source": [
    "fcc['JobRoleInterest'].value_counts(normalize = True) * 100\n"
   ]
  },
  {
   "cell_type": "markdown",
   "metadata": {},
   "source": [
    "I will drop the null values from the \"JobRoleInterest\" column. After that, I will split the multiple jobs and I will use this information to detect number of options for the participants."
   ]
  },
  {
   "cell_type": "code",
   "execution_count": 8,
   "metadata": {},
   "outputs": [],
   "source": [
    "interests_no_nulls = fcc['JobRoleInterest'].dropna()\n",
    "splitted_interests = interests_no_nulls.str.split(',')\n"
   ]
  },
  {
   "cell_type": "code",
   "execution_count": 9,
   "metadata": {},
   "outputs": [
    {
     "data": {
      "text/plain": [
       "1     31.650458\n",
       "2     10.883867\n",
       "3     15.889588\n",
       "4     15.217391\n",
       "5     12.042334\n",
       "6      6.721968\n",
       "7      3.861556\n",
       "8      1.759153\n",
       "9      0.986842\n",
       "10     0.471968\n",
       "11     0.185927\n",
       "12     0.300343\n",
       "13     0.028604\n",
       "Name: JobRoleInterest, dtype: float64"
      ]
     },
     "execution_count": 9,
     "metadata": {},
     "output_type": "execute_result"
    }
   ],
   "source": [
    "n_of_options = splitted_interests.apply(lambda x: len(x))\n",
    "n_of_options.value_counts(normalize = True).sort_index() * 100"
   ]
  },
  {
   "cell_type": "code",
   "execution_count": 10,
   "metadata": {},
   "outputs": [],
   "source": [
    "web_or_mobile = interests_no_nulls.str.contains(\n",
    "    'Web Developer|Mobile Developer')"
   ]
  },
  {
   "cell_type": "code",
   "execution_count": 11,
   "metadata": {},
   "outputs": [
    {
     "name": "stdout",
     "output_type": "stream",
     "text": [
      "True     86.241419\n",
      "False    13.758581\n",
      "Name: JobRoleInterest, dtype: float64\n"
     ]
    }
   ],
   "source": [
    "freq_table = web_or_mobile.value_counts(normalize = True) * 100\n",
    "print(freq_table)"
   ]
  },
  {
   "cell_type": "code",
   "execution_count": 12,
   "metadata": {},
   "outputs": [],
   "source": [
    "%matplotlib inline\n",
    "import matplotlib.pyplot as plt\n",
    "plt.style.use('fivethirtyeight')"
   ]
  },
  {
   "cell_type": "code",
   "execution_count": 13,
   "metadata": {},
   "outputs": [
    {
     "data": {
      "image/png": "[encoded data removed]",
      "text/plain": [
       "<Figure size 432x288 with 1 Axes>"
      ]
     },
     "metadata": {
      "needs_background": "light"
     },
     "output_type": "display_data"
    }
   ],
   "source": [
    "freq_table.plot.bar()\n",
    "plt.title('Most Participants are Interested in \\nWeb or Mobile Development',y = 1.08) \n",
    "plt.ylabel('Percentage', fontsize = 12)\n",
    "plt.xticks([0,1],['Web or mobile\\ndevelopment', 'Other subject'],rotation = 0) \n",
    "plt.ylim([0,100])\n",
    "plt.show()"
   ]
  }
 ],
 "metadata": {
  "kernelspec": {
   "display_name": "Python 3",
   "language": "python",
   "name": "python3"
  },
  "language_info": {
   "codemirror_mode": {
    "name": "ipython",
    "version": 3
   },
   "file_extension": ".py",
   "mimetype": "text/x-python",
   "name": "python",
   "nbconvert_exporter": "python",
   "pygments_lexer": "ipython3",
   "version": "3.7.3"
  }
 },
 "nbformat": 4,
 "nbformat_minor": 2
}
